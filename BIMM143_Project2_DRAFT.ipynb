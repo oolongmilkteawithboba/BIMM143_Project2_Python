{
 "cells": [
  {
   "cell_type": "markdown",
   "id": "950b48cc",
   "metadata": {},
   "source": [
    "# Project 2 - Brandon Yip "
   ]
  },
  {
   "cell_type": "markdown",
   "id": "94541923",
   "metadata": {},
   "source": [
    "## Scientific Question: How structurally similar are the surface proteins of SARS-CoV-2 and influenza type A subtype H1N1?\n",
    "\n",
    "SARS-CoV-2 binds to receptors on host cells through the use of spike (S) glycoprotein found on its surface (Javier et al. 2020). Influenza type A subtype H1N1 binds to receptors on host cells through two surface proteins, haemagglutinin (HA) and neuraminidase (NA) (Manzanares-Meza et al. 2020).\n",
    "\n",
    "Both viruses are known to exhibit high transmissibility among humans and are both contagious, respiratory illnesses with similar symptoms (Abdelrahman et al. 2020). \n",
    "\n",
    "The protein sequences for HA (https://www.ncbi.nlm.nih.gov/protein/BAA01280.1?report=fasta) and NA (https://www.ncbi.nlm.nih.gov/protein/ADC45738.1?report=fasta) were both found on the NCBI database. NCBI is the National Center of Biotechnology Information and, according to their website, \"advances science and health by providing access to biomedical and genomic information\" The protein sequence for S was found on the Uniprot Knowledgebase database (https://www.uniprot.org/uniprot/P0DTC2). Uniprot is the Universal Protein Resource and, according to their website, \"is a comprehensive resource for protein sequence and annotation data.\""
   ]
  },
  {
   "cell_type": "markdown",
   "id": "b809280d",
   "metadata": {},
   "source": [
    "## Scientific Hypothesis: If SARS-CoV-2 binds through a spike (S) glycoprotein and influenza type A subtype H1N1 binds through two surface proteins, the glycoprotein haemagglutinin (HA) and the enzyme neuraminidase (NA), then we expect to see little similarity between the protein sequences of the surface proteins of SARS-CoV-2 and influenza type A subtype H1N1.\n",
    "\n",
    "The spike (S) glycoprotein of SARS-CoV-2 has been at the focus of recent scientific research as scientists worldwide are attempting to better understand the virus as every individual is affected by the onset of the COVID-19 pandemic. This is seen through the work of Javier et al. in how specific components of S, its S1 and S2 loop, were brought to light and determined to be a potential key component in COVID-19's high transmissability and stability (Javier et. al 2020). As for influenza, whose origin is rooted in the \"Spanish Flu\" of 1918 (Abdelrahman et al. 2020), studies on its surface proteins, NA and HA, are much more abdundant. Specifically, HA and NA are known to work in tandem, where NA works to cleave the sialic acid on a host cell so that HA could bind to the newly open receptors (Abdelrahman et al. 2020). \n",
    "\n",
    "SARS-CoV-2 and influenza A both cause infected patients to present with the symptoms of a \"cough, fever, severe lung infections, and occasional respiratory failure causing deaths\" (Abdelrahman et al. 2021). Given the similarity in symptoms caused, it may be expected that the makeup of the binding proteins of both viruses are similar. To answer my scientific question and hypothesis, I looked to take studied protein sequences for each protein and compare them using pairwise sequence alignment and multiple sequence alignment. The protein sequences were downloaded as individual FASTA files and subsequently merged into one FASTA file using Jupyter notebook for Biopython to load and process the alignments here."
   ]
  },
  {
   "cell_type": "markdown",
   "id": "9b9f03a9",
   "metadata": {},
   "source": [
    "## Part 1: Load the packages\n",
    "Packages loaded include the following:\n",
    "\n",
    "Biopython: Biopython is an open-source collection of tools in Python. It is used to conduct bioinformatics methods and other biological computation. It can both read and write multiple file types and can access online databases. In this project, it has been used to conduct pairwise sequence alignment and multiple sequence alignment. To learn more about Biopython and its usage, see: https://biopython.org/wiki/Documentation.\n",
    "\n",
    "NumPy: NumPy is an open-source library used in Python for creating arrays and matrices. It allows for high-level mathematical computation. It is largely used in array operations. NumPy and Matplotlib are often used in tandem to simulate an environment that is similar to Matlab. This combination is favored because of its open-source nature. To learn more about NumPy, see: https://numpy.org/doc/.\n",
    "\n",
    "Seaborn: Seaborn is an open-source Python data visualization library that is built on top of Matplotlib. It allows for stylish statistical plotting. Its plotting functions focus on dataframes and entire datasets to produc its plots. Its purpose is rooted in allowing easy and intuitive data plotting. To learn more about NumPy, see: https://seaborn.pydata.org/.\n",
    "\n",
    "Matplotlib: Matplotlib is an open-source plotting library used in Python. It is used for embedding plots into appications. It serves a base for other packages such as Seaborn. It is also often used in tandem with NumPy to simulate an environment that is similar to MatLab. This combination is favored because of its open-source nature. To learn more about Matplotlib, see: https://matplotlib.org/stable/."
   ]
  },
  {
   "cell_type": "code",
   "execution_count": 154,
   "id": "690739fb",
   "metadata": {},
   "outputs": [],
   "source": [
    "#Package already obtained through Anaconda Navigator, running shows installation already completed.\n",
    "#pip install Biopython"
   ]
  },
  {
   "cell_type": "code",
   "execution_count": 155,
   "id": "b58746e2",
   "metadata": {},
   "outputs": [],
   "source": [
    "#Package already obtained through Anaconda Navigator, running shows installation already completed.\n",
    "#pip install numpy"
   ]
  },
  {
   "cell_type": "code",
   "execution_count": 156,
   "id": "742ab229",
   "metadata": {},
   "outputs": [],
   "source": [
    "#Package already obtained through Anaconda Navigator, running shows installation already completed.\n",
    "#pip install seaborn"
   ]
  },
  {
   "cell_type": "code",
   "execution_count": 157,
   "id": "99771b27",
   "metadata": {},
   "outputs": [],
   "source": [
    "#Package already obtained through Anaconda Navigator, running shows installation already completed.\n",
    "#pip install matplotlib"
   ]
  },
  {
   "cell_type": "code",
   "execution_count": 158,
   "id": "150ee4ba",
   "metadata": {},
   "outputs": [],
   "source": [
    "from Bio import AlignIO\n",
    "from Bio import pairwise2\n",
    "from Bio import Seq\n",
    "from Bio import SeqIO\n",
    "from Bio.Align import MultipleSeqAlignment\n",
    "from Bio.Align.Applications import MuscleCommandline\n",
    "import matplotlib.pylab as plt\n",
    "import numpy as np\n",
    "import seaborn as sns"
   ]
  },
  {
   "cell_type": "markdown",
   "id": "f325d174",
   "metadata": {},
   "source": [
    "## Part 2: Load in the data and perform Bioinformatics Analyses\n",
    "For our purposes, we are using a FASTA file containing the proteins sequences of HA, NA, and S. A FASTA file is a text-based format used to store either nucleotide or amino acid sequences in a string of single-letter codes. In these files, information pertaining to the sequence is found in a line just before the sequences.\n",
    "\n",
    "In the code below, we are working to load and print each sequence found in our FASTA file containing the sequences for HA, NA, and S. \n",
    "Next, we run pairwise sequence alignments to compare HA with NA, HA with S, and NA with S and print. The score printed is indicative of matching proteins with higher values indicating greater matches. Pairwise sequence alignment takes two protein sequences and compares them to find the number of matching amino acid bases.\n",
    "\n",
    "Next, we load our original FASTA file, which is unaligned, into MUSCLE to obtain an aligned file which we can then use for multiple sequence alignment (MSA). Multiple sequence alignment conducts a similar job to pairwise sequence alignment but is capable of performing its alignment on more than just the two protein sequences able to be processed at a time through pairwise sequence alignment. MUSCLE was unable to be used in this scenario, however, so an MSA file was obtained using an online tool and the particular job used in this project could be found here: https://www.ebi.ac.uk/Tools/services/web/toolresult.ebi?jobId=muscle-I20211208-061615-0558-22822573-p1m\n",
    "\n",
    "Once our MSA is obtained, we use Biopython to load the aligned file to run a multiple sequence alignment then print.\n"
   ]
  },
  {
   "cell_type": "code",
   "execution_count": 169,
   "id": "411a8f64",
   "metadata": {},
   "outputs": [
    {
     "name": "stdout",
     "output_type": "stream",
     "text": [
      "'BAA01280.1'\n",
      "Seq('MEAKLFVLFCTFTVLKADTICVGYHANNSTDTVDTVLEKNVTVTHSVNLLEDSH...ICI')\n",
      "'ADC45738.1'\n",
      "Seq('MNPNQKIITIGSISIAIGIISLMLQIGNIISIWASHSIQTGSQNNTGICNQRII...IDK')\n",
      "'sp|P0DTC2|SPIKE_SARS2'\n",
      "Seq('MFVFLVLLPLVSSQCVNLTTRTQLPPAYTNSFTRGVYYPDKVFRSSVLHSTQDL...HYT')\n"
     ]
    }
   ],
   "source": [
    "#print name and sequence for every sequence in fasta file\n",
    "for seq_record in SeqIO.parse('Project2_ProteinSequences.fasta','fasta'):\n",
    "    #print sequence identifier\n",
    "    print(repr(seq_record.id))\n",
    "    #print protein sequence\n",
    "    print(repr(seq_record.seq))"
   ]
  },
  {
   "cell_type": "code",
   "execution_count": 160,
   "id": "8f4a803b",
   "metadata": {},
   "outputs": [],
   "source": [
    "#read fasta file containing protein sequences and store in a list\n",
    "Fasta = list(SeqIO.parse(\"Project2_ProteinSequences.fasta\", \"fasta\"))\n",
    "#define global variable size to number of sequences in fasta file for heatmap dimensions\n",
    "size = len(Fasta)\n",
    "\n",
    "i = 0\n",
    "j = 0\n",
    "\n",
    "#predefine array for alignment scores\n",
    "alignments_score = np.empty(shape=(size,size))"
   ]
  },
  {
   "cell_type": "code",
   "execution_count": 161,
   "id": "f2280f08",
   "metadata": {},
   "outputs": [
    {
     "name": "stdout",
     "output_type": "stream",
     "text": [
      "187.0\n"
     ]
    }
   ],
   "source": [
    "#alignment score for haemagglutinin and neuraminidase\n",
    "print(align_array[0][1])"
   ]
  },
  {
   "cell_type": "code",
   "execution_count": 162,
   "id": "77f7de90",
   "metadata": {},
   "outputs": [
    {
     "name": "stdout",
     "output_type": "stream",
     "text": [
      "312.0\n"
     ]
    }
   ],
   "source": [
    "#alignment score for haemagglutinin and spike protein S (highest similarity (largest number))\n",
    "print(align_array[0][2])"
   ]
  },
  {
   "cell_type": "code",
   "execution_count": 163,
   "id": "aced1946",
   "metadata": {},
   "outputs": [
    {
     "name": "stdout",
     "output_type": "stream",
     "text": [
      "268.0\n"
     ]
    }
   ],
   "source": [
    "#alignment score for neuraminidase and spike protein S\n",
    "print(align_array[1][2])"
   ]
  },
  {
   "cell_type": "code",
   "execution_count": 164,
   "id": "c2fe34ed",
   "metadata": {},
   "outputs": [
    {
     "name": "stdout",
     "output_type": "stream",
     "text": [
      "muscle.exe -in Project2_ProteinSequences.fasta -out aligned.fasta\n"
     ]
    }
   ],
   "source": [
    "#The following code was unable to be run. An MSA file was generated using an online tool and\n",
    "#can be found here: https://www.ebi.ac.uk/Tools/services/web/toolresult.ebi?jobId=muscle-I20211208-061615-0558-22822573-p1m\n",
    "#use MUSCLE to generate MSA file from unaligned fasta file\n",
    "#read muscle.exe\n",
    "muscle_exe = r\"muscle.exe\"\n",
    "#read unaligned input file\n",
    "input_file = r\"Project2_ProteinSequences.fasta\"\n",
    "#write aligned output file\n",
    "output_file = r\"aligned.fasta\"\n",
    "#run muscle through Biopython\n",
    "muscle_cline = MuscleCommandline(muscle_exe, input=input_file, out=output_file)\n",
    "print(muscle_cline)"
   ]
  },
  {
   "cell_type": "code",
   "execution_count": 165,
   "id": "3b8f43aa",
   "metadata": {
    "scrolled": false
   },
   "outputs": [
    {
     "name": "stdout",
     "output_type": "stream",
     "text": [
      "Total alignment length is 1284\n",
      "------------MEAKLFVLFCTFTVLKADTICVGYH---------ANNSTDTVDTVLEKNVTVTHSVNLLEDSHNGKLCSLNGIAPLQLGKC------------NVAGWLLG---NPECDLLLTANS--------------------------------WSYIIETSNSENGT------------CYPGEFIDYEELR------------------------------EQLSSI----------SSFEKFEIFPKAS---------------------SWPNHETTKGVTAA------------------------------------------------CSYSG------------------------ASSFYRNLLWITK----------KGTSYPKLSKSYTNNKGKEVLVLWGVHHPPSVSEQQSLYQNADAYVSVGSS---------------------------KYNRRFAPEI--AARPEVRGQAGRMNYYWTLLDQG----------------------------------------DTITFEATGNLIA-----------PWYAFALNKG----------------SDSGIITSDAPVHNCDTRCQ----------------TPH--------------------------GALNSSLPFQNVHPITIGECPKY-VKSTKLRMATGL------------------------RNVPSIQSRGL---------------------------------FGAIAGFIEGGWTGM-----------------------IDGWYGYHHQNEQGSGYAADQKSTQNAI---------DGITSKVNSVIEKMNTQFTAVGKEFNNLERRIENLNKKVDDG---------FLDVWTYNAELLVLLENERTLDFH------------------DSNVRNLYEKVKSQLRNNAKEIG-----------------------------------------------------------------------------------NGCFEFYHKCDDEC-----------------------------------------------------------------------------------------------------MESVKNGTYDYPKYSEESKLNREEIDGVKLESMGVYQILAIYSTVASSL-------------VLLVSWGAISFWM------------------------CSNGSLQCRICI------------------- BAA01280.1\n",
      "-----------------MNPNQKIITIGSISIAIGII--------SLMLQIGNIISIWAS-----HSIQ-TGSQNNTGICN-QRIITYENSTWVNHTYVNINNTNVVAG-------EDKTSVTLAGNSS------LCSI---------------------SGWAIYTKDNSIRI------------GSKGDV-----FVIR----------------------------EPFISC----------SHLECRTFFLTQG---------------------ALLNDKHSNGTVKD---------------------------RSPYRALMS------------CPLGE--------------------APSPYNSKFESVAWSASACH-------DGMGWLTI----------------GISGPDNGAVAVLKYN--GIITGTIKSWKK--------------------------------QILRTQESECVCMNG--SC-FTIMTDG--PSNKAA--SYKI----FKIEKGKVTKSIELNAPNFYYEECSCYPDTGIVMCVCRDNWHGSNRPWVSFNQNLD-----------YQIGYICSGVFGDNPRPEDGEGSCN--------------PVTVDGAN-----------------------GVKGFSYKYDNGVWIGR-------TKSNRLRKGFEM------------------------IWDPN-------------------------------------------------GWTNTDSDFSVKQDVVA-----------ITDWSGYS-----------------------------GSFVQH----------------PELTGLDCIRPCFWVELVRG-----LPRENTTIWTSGS----------------------------------------------------------------------------------------------------------------------------------------------------SISFC-------------------------------------------------------------------------------------------------------------------------------GVNSDTAN---------------------------------WS----W-------------------------------PDGAELPFTIDK------------- ADC45738.1\n",
      "MFVFLVLLPLVSSQCVNLTTRTQLPPAYTNSFTRGVYYPDKVFRSSVLHSTQDLFLPFFSNVTWFHAIH-VSGTNGTKRFD-NPVLPFNDGVY----FASTEKSNIIRGWIFGTTLDSKTQSLLIVNNATNVVIKVCEFQFCNDPFLGVYYHKNNKSWMESEFRVYSSANNCTFEYVSQPFLMDLEGKQGNFKNLREFVFKNIDGYFKIYSKHTPINLVRDLPQGFSALEPLVDLPIGINITRFQTLLALHRSYLTPGDSSSGWTAGAAAYYVGYLQPRTFLLKYNENGTITDAVDCALDPLSETKCTLKSFTVEKGIYQTSNFRVQPTESIVRFPNITNLCPFGEVFNATRFASVYAWNRKRISNCVADYSVLYNSASFSTFKCYGVSPTKLNDLCFTNVYADSFVIRGDEVR---QIAPGQTGKIADYNYKLPDDFTGCVIAWNSNNLDSKVGGNYNYLYRLFRKSNLKPFERDISTEIYQAGSTPCNGVEG-FNCYFPLQSYGFQPTNGVGYQPYRVVVLSFELLHAPATVCGPKKSTNLVKNKCVNFNFNGLTGTGVLTESNKKFLPFQQFGRDIADTTDAVRDPQTLEILDITPCSFGGVSVITPGTNTSNQVAVLYQDVNCTEVPVAIHADQLTPTWRVYSTGSNVFQTRAGCLIGAEHVNNSYECDIPIGAGICASYQTQTNSPRRARSVASQSIIAYTMSLGAENSVAYSNNSIAIPTNFTISVTTEILPVSMTKTSVDCTMYICGDSTECSNLLLQYGSFCTQLNRALTGIAVEQDKNTQEVFAQVKQIYKTPPIKDFGGFNFSQILPDPSKPSKRSFIEDLLFNKVTLADAGFIKQYGDCLGDIAARDLICAQKFNGLTVLPPLLTDEMIAQYTSALLAGTITSGWTFGAGAALQIPFAMQMAYRFNGIGVTQNVLYENQKLIANQFNSAIGKIQDSLSSTASALGKLQDVVNQNAQALNTLVKQLSSNFGAISSVLNDILSRLDKVEAEVQIDRLITGRLQSLQTYVTQQLIRAAEIRASANLAATKMSECVLGQSKRVDFCGKGYHLMSFPQSAPHGVVFLHVTYVPAQEKNFTTAPAICHDGKAHFPREGVFVSNGTHWFVTQRNFYEPQIITTDNTFVSGNCDVVIGIVNNTVYDPLQPELDSFKEELDKYFKNHTSPDVDLGDISGINASVVNIQKEIDRLNEVAKNLNESLIDLQELGKYEQYIKWP-WYIWLGFIAGLIAIVMVTIMLCCMTSCCSCLKGCCSCGSCCKFDEDDSEPVLKGVKLHYT sp|P0DTC2|SPIKE_SARS2\n"
     ]
    }
   ],
   "source": [
    "#Load and read alignment file\n",
    "alignment = AlignIO.read(open(\"aligned.fasta\"), \"fasta\")\n",
    "#print alignment length\n",
    "print(\"Total alignment length is %i\" % alignment.get_alignment_length())\n",
    "#print each row in record as well as record identifier\n",
    "for record in alignment:\n",
    "    print(record.seq + \" \" + record.id)"
   ]
  },
  {
   "cell_type": "code",
   "execution_count": 166,
   "id": "f5c4b181",
   "metadata": {},
   "outputs": [
    {
     "name": "stdout",
     "output_type": "stream",
     "text": [
      "Alignment with 30 rows and 1284 columns\n",
      "------------MEAKLFVLFCTFTVLKADTICVGYH-------...--- BAA01280.1\n",
      "-----------------MNPNQKIITIGSISIAIGII-------...--- ADC45738.1\n",
      "MFVFLVLLPLVSSQCVNLTTRTQLPPAYTNSFTRGVYYPDKVFR...HYT sp|P0DTC2|SPIKE_SARS2\n",
      "------------MEAKLFVLFCTFTVLKADTICVGYH-------...--- BAA01280.1\n",
      "-----------------MNPNQKIITIGSISIAIGII-------...--- ADC45738.1\n",
      "MFVFLVLLPLVSSQCVNLTTRTQLPPAYTNSFTRGVYYPDKVFR...HYT sp|P0DTC2|SPIKE_SARS2\n",
      "------------MEAKLFVLFCTFTVLKADTICVGYH-------...--- BAA01280.1\n",
      "-----------------MNPNQKIITIGSISIAIGII-------...--- ADC45738.1\n",
      "MFVFLVLLPLVSSQCVNLTTRTQLPPAYTNSFTRGVYYPDKVFR...HYT sp|P0DTC2|SPIKE_SARS2\n",
      "------------MEAKLFVLFCTFTVLKADTICVGYH-------...--- BAA01280.1\n",
      "-----------------MNPNQKIITIGSISIAIGII-------...--- ADC45738.1\n",
      "MFVFLVLLPLVSSQCVNLTTRTQLPPAYTNSFTRGVYYPDKVFR...HYT sp|P0DTC2|SPIKE_SARS2\n",
      "------------MEAKLFVLFCTFTVLKADTICVGYH-------...--- BAA01280.1\n",
      "-----------------MNPNQKIITIGSISIAIGII-------...--- ADC45738.1\n",
      "MFVFLVLLPLVSSQCVNLTTRTQLPPAYTNSFTRGVYYPDKVFR...HYT sp|P0DTC2|SPIKE_SARS2\n",
      "------------MEAKLFVLFCTFTVLKADTICVGYH-------...--- BAA01280.1\n",
      "-----------------MNPNQKIITIGSISIAIGII-------...--- ADC45738.1\n",
      "MFVFLVLLPLVSSQCVNLTTRTQLPPAYTNSFTRGVYYPDKVFR...HYT sp|P0DTC2|SPIKE_SARS2\n",
      "...\n",
      "MFVFLVLLPLVSSQCVNLTTRTQLPPAYTNSFTRGVYYPDKVFR...HYT sp|P0DTC2|SPIKE_SARS2\n"
     ]
    }
   ],
   "source": [
    "#use Biopython to read aligned fasta file\n",
    "for record in SeqIO.parse('aligned.fasta', format='fasta'):\n",
    "    records.append(record)\n",
    "#execute multiple sequence alignment\n",
    "align = MultipleSeqAlignment(records)\n",
    "#print alignment\n",
    "print(align)"
   ]
  },
  {
   "cell_type": "markdown",
   "id": "dcd65471",
   "metadata": {},
   "source": [
    "## Part 3: Create a heatmap to display pairwise sequence alignment scores between the sequences of HA, NA, and S.\n",
    "A heatmap is a plotting method that features a range of colors that are indicative of different results. For this heatmap, pairwise sequence alignment scores going from low to high follow a transition from dark colors to light colors. The scores, and subsequently colors, show similarities between the proteins in terms of matching proteins found in the respective sequences. "
   ]
  },
  {
   "cell_type": "code",
   "execution_count": 168,
   "id": "a85ab71b",
   "metadata": {},
   "outputs": [
    {
     "name": "stdout",
     "output_type": "stream",
     "text": [
      "Completed 0\n",
      "Completed 1\n",
      "Completed 2\n"
     ]
    },
    {
     "data": {
      "image/png": "[encoded data removed]",
      "text/plain": [
       "<Figure size 432x288 with 2 Axes>"
      ]
     },
     "metadata": {
      "needs_background": "light"
     },
     "output_type": "display_data"
    }
   ],
   "source": [
    "#create an array of values set to zero which will populate heatmap for displaying alignment scores\n",
    "#for dimensions of array, use size defined above\n",
    "align_array = np.zeros((size,size))\n",
    "i = 0\n",
    "j = 0\n",
    "\n",
    "#cycle through sequences\n",
    "for seq1 in SeqIO.parse('Project2_ProteinSequences.fasta', 'fasta'):\n",
    "    j = 0\n",
    "    #print a completion confirmation for each pairwise sequence alignment done\n",
    "    print(\"Completed \" + str(i))\n",
    "    #for each sequence, calculate alignment score using pairwise sequence alignment for every sequence in fasta file\n",
    "    for seq2 in SeqIO.parse('Project2_ProteinSequences.fasta','fasta'):\n",
    "        alignment = pairwise2.align.globalxx(seq1.seq,seq2.seq)\n",
    "        #print alignment commented out as output is extensive\n",
    "        #print(alignment)\n",
    "        align_array[i][j] = alignment[0][2]\n",
    "        j += 1\n",
    "\n",
    "    i += 1\n",
    "#create heatmap using seaborn\n",
    "heatmap = sns.heatmap(align_array)\n",
    "#display heatmap\n",
    "plt.show()"
   ]
  },
  {
   "cell_type": "markdown",
   "id": "90923259",
   "metadata": {},
   "source": [
    "## Part 4: Analysis of the results\n",
    "The heatmap above displays the similarities between all proteins within in the set (HA, NA, and S). The light colors shown are found in the diagonal as each of the three light-colored squares are scores obtained from comparing a protein with itself. We can observe that all of the proteins are largely unique from one another as the only light colors in the plot are belonging to pairwise sequence alignments done to a particular protein against itself. This is verified by looking at the data from the pairwise sequence alignments done which give a score of 187 for haemagglutinin and neuraminidase, a score of 312 for haemagglutinin and spike protein S, and a score of 268 for neuraminidase and spike protein S. Looking at this, it may appear perplexing that the two surface proteins of influenza A, HA and NA, are dissimilar to one another. A potential reason for this may be rooted in the type of protein HA and NA are. HA is a glycoprotein while NA is an enzyme. This potential reason is further supported by the highest similarity score found of 312 between HA and S as both HA and S are glycoproteins. Additionally, the multiple sequence alignment performed on all three protein sequences shows extreme dissimilarity with the output presenting few matching amino acids. The data found suggests that my hypothesis was correct in that the two surface proteins, HA and NA, of influenza are dissimilar to the surface protein, S, of SARS-CoV-2."
   ]
  },
  {
   "cell_type": "code",
   "execution_count": null,
   "id": "0fda9a26",
   "metadata": {},
   "outputs": [],
   "source": []
  }
 ],
 "metadata": {
  "kernelspec": {
   "display_name": "Python 3",
   "language": "python",
   "name": "python3"
  },
  "language_info": {
   "codemirror_mode": {
    "name": "ipython",
    "version": 3
   },
   "file_extension": ".py",
   "mimetype": "text/x-python",
   "name": "python",
   "nbconvert_exporter": "python",
   "pygments_lexer": "ipython3",
   "version": "3.8.8"
  }
 },
 "nbformat": 4,
 "nbformat_minor": 5
}
